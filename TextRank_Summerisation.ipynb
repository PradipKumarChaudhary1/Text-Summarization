{
  "nbformat": 4,
  "nbformat_minor": 0,
  "metadata": {
    "colab": {
      "name": "TextRank_Summerisation.ipynb",
      "version": "0.3.2",
      "provenance": [],
      "collapsed_sections": [],
      "include_colab_link": true
    },
    "kernelspec": {
      "name": "python3",
      "display_name": "Python 3"
    }
  },
  "cells": [
    {
      "cell_type": "markdown",
      "metadata": {
        "id": "view-in-github",
        "colab_type": "text"
      },
      "source": [
        "<a href=\"https://colab.research.google.com/github/PradipKumarChaudhary1/hello-world/blob/master/TextRank_Summerisation.ipynb\" target=\"_parent\"><img src=\"https://colab.research.google.com/assets/colab-badge.svg\" alt=\"Open In Colab\"/></a>"
      ]
    },
    {
      "cell_type": "code",
      "metadata": {
        "id": "pCLHQA-wTS7p",
        "colab_type": "code",
        "colab": {}
      },
      "source": [
        "text=\"\"\"Being healthy and fit in simple terms means taking good care of the body. We should remember that a healthy mind resides only in a healthy body. Good health of both mind and body helps one maintain the required energy level to achieve success in life. All of us must strive to achieve wholesome health.\n",
        "\n",
        "Protecting your body from the intake of harmful substances, doing regular exercises, having proper food and sleep are some of the important instances that define a healthy lifestyle. Being fit allows us to perform our activities without being lethargic, restless or tired.\n",
        "\n",
        "A healthy and fit person is capable of living the life to the fullest, without any major medical or physical issues. Being healthy is not only related to the physical well-being of a person, it also involves the mental stability or the internal peace of a person.\n",
        "\n",
        "Generally, a healthy diet consists of taking a proper and healthy food which includes eating green and fresh vegetables, fruits, having milk, eggs, minerals, proteins and vitamins essential for a human’s lifestyle. Practicing Yoga including regular exercises in your daily routine also help you maintain your desired fitness, blood sugar and immunity level.\n",
        "\n",
        "Healthy habits improve your physical appearance, mental stability, ability to perform activities in a better way, which help you lead a stress-free lifestyle, maintaining happy moods, high energy levels, etc. Each individual should take of one’s health on a priority; no single day should be skipped for making efforts on maintaining physical and mental fitness. Being happy is directly related to boosting your mental strength and health, so happiness can be considered as the result as well as the part of a healthy and fit lifestyle.\n",
        "\n",
        "\"\"\""
      ],
      "execution_count": 0,
      "outputs": []
    },
    {
      "cell_type": "code",
      "metadata": {
        "id": "XgWRlZYmUHHE",
        "colab_type": "code",
        "outputId": "74f7f914-b101-4f1b-d194-39763ef0ea04",
        "colab": {
          "base_uri": "https://localhost:8080/",
          "height": 170
        }
      },
      "source": [
        "pip install regex"
      ],
      "execution_count": 0,
      "outputs": [
        {
          "output_type": "stream",
          "text": [
            "Collecting regex\n",
            "\u001b[?25l  Downloading https://files.pythonhosted.org/packages/6f/4e/1b178c38c9a1a184288f72065a65ca01f3154df43c6ad898624149b8b4e0/regex-2019.06.08.tar.gz (651kB)\n",
            "\u001b[K     |████████████████████████████████| 655kB 5.1MB/s \n",
            "\u001b[?25hBuilding wheels for collected packages: regex\n",
            "  Building wheel for regex (setup.py) ... \u001b[?25l\u001b[?25hdone\n",
            "  Stored in directory: /root/.cache/pip/wheels/35/e4/80/abf3b33ba89cf65cd262af8a22a5a999cc28fbfabea6b38473\n",
            "Successfully built regex\n",
            "Installing collected packages: regex\n",
            "Successfully installed regex-2019.6.8\n"
          ],
          "name": "stdout"
        }
      ]
    },
    {
      "cell_type": "code",
      "metadata": {
        "id": "vmufgd9FUoEf",
        "colab_type": "code",
        "outputId": "9b24d91f-df34-4295-ee3a-53d4b498557c",
        "colab": {
          "base_uri": "https://localhost:8080/",
          "height": 102
        }
      },
      "source": [
        "import nltk\n",
        "nltk.download('punkt')\n",
        "nltk.download('stopwords')"
      ],
      "execution_count": 0,
      "outputs": [
        {
          "output_type": "stream",
          "text": [
            "[nltk_data] Downloading package punkt to /root/nltk_data...\n",
            "[nltk_data]   Unzipping tokenizers/punkt.zip.\n",
            "[nltk_data] Downloading package stopwords to /root/nltk_data...\n",
            "[nltk_data]   Unzipping corpora/stopwords.zip.\n"
          ],
          "name": "stdout"
        },
        {
          "output_type": "execute_result",
          "data": {
            "text/plain": [
              "True"
            ]
          },
          "metadata": {
            "tags": []
          },
          "execution_count": 3
        }
      ]
    },
    {
      "cell_type": "code",
      "metadata": {
        "id": "FYQGc2a-Vlz7",
        "colab_type": "code",
        "colab": {}
      },
      "source": [
        "from nltk.tokenize import word_tokenize\n",
        "\n",
        "def remove_shortWord(sentences):\n",
        "  remove_word={\"he's\":\"he is\",\"she's\":\"she is\",\"that's\":\"that is\",\"i'm\":\"i am\",\"what's\":\"what is\",\"where's\":\"where is\",\"\\'ll\":\"will\",\"\\'ve\":\"have\",\"\\'re\":\"are\",\"\\'d\":\"would\",\"won't\":\"would not\",\"willn't\":\"will not\",\"can't\":\"can not\",\"don't\":\"do not\"}\n",
        "  words=sentences.split()\n",
        "  for i in range(len(words)):\n",
        "    if words[i] in set(remove_word.keys()):\n",
        "      words[i]=remove_word[words[i]]\n",
        "  words=\" \".join(words)\n",
        "  return words"
      ],
      "execution_count": 0,
      "outputs": []
    },
    {
      "cell_type": "code",
      "metadata": {
        "id": "eBvzK1JJUsaG",
        "colab_type": "code",
        "outputId": "dd359d4b-9a6e-42ab-94a4-16e4ef0b62f6",
        "colab": {
          "base_uri": "https://localhost:8080/",
          "height": 54
        }
      },
      "source": [
        "from nltk.tokenize import sent_tokenize,word_tokenize\n",
        "import regex\n",
        "\n",
        "def tokenize_sentence(text):\n",
        "  sents=sent_tokenize(text) \n",
        "  sent_list=[]\n",
        "  for sent in sents:\n",
        "    sent=sent.strip()\n",
        "    sent=sent.lower()\n",
        "    sent=remove_shortWord(sent) \n",
        "    sent_list.append(sent)\n",
        "  return(sent_list)\n",
        "\n",
        "\n",
        "sentences=tokenize_sentence(text)\n",
        "sent_for_print=sentences\n",
        "print(sentences)"
      ],
      "execution_count": 0,
      "outputs": [
        {
          "output_type": "stream",
          "text": [
            "['being healthy and fit in simple terms means taking good care of the body.', 'we should remember that a healthy mind resides only in a healthy body.', 'good health of both mind and body helps one maintain the required energy level to achieve success in life.', 'all of us must strive to achieve wholesome health.', 'protecting your body from the intake of harmful substances, doing regular exercises, having proper food and sleep are some of the important instances that define a healthy lifestyle.', 'being fit allows us to perform our activities without being lethargic, restless or tired.', 'a healthy and fit person is capable of living the life to the fullest, without any major medical or physical issues.', 'being healthy is not only related to the physical well-being of a person, it also involves the mental stability or the internal peace of a person.', 'generally, a healthy diet consists of taking a proper and healthy food which includes eating green and fresh vegetables, fruits, having milk, eggs, minerals, proteins and vitamins essential for a human’s lifestyle.', 'practicing yoga including regular exercises in your daily routine also help you maintain your desired fitness, blood sugar and immunity level.', 'healthy habits improve your physical appearance, mental stability, ability to perform activities in a better way, which help you lead a stress-free lifestyle, maintaining happy moods, high energy levels, etc.', 'each individual should take of one’s health on a priority; no single day should be skipped for making efforts on maintaining physical and mental fitness.', 'being happy is directly related to boosting your mental strength and health, so happiness can be considered as the result as well as the part of a healthy and fit lifestyle.']\n"
          ],
          "name": "stdout"
        }
      ]
    },
    {
      "cell_type": "code",
      "metadata": {
        "id": "9Jp8m7Y7fktZ",
        "colab_type": "code",
        "outputId": "efa15c6f-0ce5-4b13-d048-e8a26d30f40c",
        "colab": {
          "base_uri": "https://localhost:8080/",
          "height": 54
        }
      },
      "source": [
        "from nltk.tokenize import sent_tokenize,word_tokenize\n",
        "import regex\n",
        "import string\n",
        "def remove_punctuation(sentences):\n",
        "  sent_list=[]\n",
        "  for sent in sentences:\n",
        "    words=word_tokenize(sent)\n",
        "    str=\"\"\n",
        "    for i in range(len(words)):\n",
        "      x=regex.sub(\"[^\\w\\s]|_\",\"\",words[i]).strip()\n",
        "      str=str+\" \"+x\n",
        "      str=str.strip()\n",
        "    sent_list.append(str)\n",
        "  return sent_list\n",
        "\n",
        "sentences=remove_punctuation(sentences)\n",
        "print(sentences)"
      ],
      "execution_count": 0,
      "outputs": [
        {
          "output_type": "stream",
          "text": [
            "['being healthy and fit in simple terms means taking good care of the body', 'we should remember that a healthy mind resides only in a healthy body', 'good health of both mind and body helps one maintain the required energy level to achieve success in life', 'all of us must strive to achieve wholesome health', 'protecting your body from the intake of harmful substances doing regular exercises having proper food and sleep are some of the important instances that define a healthy lifestyle', 'being fit allows us to perform our activities without being lethargic restless or tired', 'a healthy and fit person is capable of living the life to the fullest without any major medical or physical issues', 'being healthy is not only related to the physical wellbeing of a person it also involves the mental stability or the internal peace of a person', 'generally a healthy diet consists of taking a proper and healthy food which includes eating green and fresh vegetables fruits having milk eggs minerals proteins and vitamins essential for a human s lifestyle', 'practicing yoga including regular exercises in your daily routine also help you maintain your desired fitness blood sugar and immunity level', 'healthy habits improve your physical appearance mental stability ability to perform activities in a better way which help you lead a stressfree lifestyle maintaining happy moods high energy levels etc', 'each individual should take of one s health on a priority no single day should be skipped for making efforts on maintaining physical and mental fitness', 'being happy is directly related to boosting your mental strength and health so happiness can be considered as the result as well as the part of a healthy and fit lifestyle']\n"
          ],
          "name": "stdout"
        }
      ]
    },
    {
      "cell_type": "code",
      "metadata": {
        "id": "LcMS9KZHgBvz",
        "colab_type": "code",
        "outputId": "c8cd8dfe-3d0d-44d1-afe5-4dd5610ba4e7",
        "colab": {
          "base_uri": "https://localhost:8080/",
          "height": 54
        }
      },
      "source": [
        "from nltk.tokenize import word_tokenize\n",
        "from nltk.corpus import stopwords\n",
        "def remove_stopwords(sentences):\n",
        "  stop_words=set(stopwords.words(\"english\"))\n",
        "   \n",
        "  sent_list=[]\n",
        "  for sent in sentences:\n",
        "    words=word_tokenize(sent)\n",
        "    words=[word for word in words if word not in stop_words]\n",
        "    words=\" \".join(words)\n",
        "    words=words.strip()\n",
        "    sent_list.append(words)\n",
        "  return sent_list\n",
        "\n",
        "sentences=remove_stopwords(sentences)\n",
        "print(sentences)"
      ],
      "execution_count": 0,
      "outputs": [
        {
          "output_type": "stream",
          "text": [
            "['healthy fit simple terms means taking good care body', 'remember healthy mind resides healthy body', 'good health mind body helps one maintain required energy level achieve success life', 'us must strive achieve wholesome health', 'protecting body intake harmful substances regular exercises proper food sleep important instances define healthy lifestyle', 'fit allows us perform activities without lethargic restless tired', 'healthy fit person capable living life fullest without major medical physical issues', 'healthy related physical wellbeing person also involves mental stability internal peace person', 'generally healthy diet consists taking proper healthy food includes eating green fresh vegetables fruits milk eggs minerals proteins vitamins essential human lifestyle', 'practicing yoga including regular exercises daily routine also help maintain desired fitness blood sugar immunity level', 'healthy habits improve physical appearance mental stability ability perform activities better way help lead stressfree lifestyle maintaining happy moods high energy levels etc', 'individual take one health priority single day skipped making efforts maintaining physical mental fitness', 'happy directly related boosting mental strength health happiness considered result well part healthy fit lifestyle']\n"
          ],
          "name": "stdout"
        }
      ]
    },
    {
      "cell_type": "code",
      "metadata": {
        "id": "Mzpg9VNegPEC",
        "colab_type": "code",
        "outputId": "80a07aef-1414-4421-c6e9-f6f2767662f6",
        "colab": {
          "base_uri": "https://localhost:8080/",
          "height": 54
        }
      },
      "source": [
        "from nltk.stem import PorterStemmer\n",
        "from nltk.tokenize import word_tokenize\n",
        "\n",
        "def remove_stemming(sentences):\n",
        "  stemmer=PorterStemmer()\n",
        "  sent_list=[]\n",
        "  for sent in sentences:\n",
        "    words=word_tokenize(sent)\n",
        "    words=[stemmer.stem(word) for word in words]\n",
        "    words=\" \".join(words)\n",
        "    sent_list.append(words)\n",
        "  return sent_list\n",
        "\n",
        "sentences=remove_stemming(sentences)\n",
        "print(sentences)"
      ],
      "execution_count": 0,
      "outputs": [
        {
          "output_type": "stream",
          "text": [
            "['healthi fit simpl term mean take good care bodi', 'rememb healthi mind resid healthi bodi', 'good health mind bodi help one maintain requir energi level achiev success life', 'us must strive achiev wholesom health', 'protect bodi intak harm substanc regular exercis proper food sleep import instanc defin healthi lifestyl', 'fit allow us perform activ without letharg restless tire', 'healthi fit person capabl live life fullest without major medic physic issu', 'healthi relat physic wellb person also involv mental stabil intern peac person', 'gener healthi diet consist take proper healthi food includ eat green fresh veget fruit milk egg miner protein vitamin essenti human lifestyl', 'practic yoga includ regular exercis daili routin also help maintain desir fit blood sugar immun level', 'healthi habit improv physic appear mental stabil abil perform activ better way help lead stressfre lifestyl maintain happi mood high energi level etc', 'individu take one health prioriti singl day skip make effort maintain physic mental fit', 'happi directli relat boost mental strength health happi consid result well part healthi fit lifestyl']\n"
          ],
          "name": "stdout"
        }
      ]
    },
    {
      "cell_type": "code",
      "metadata": {
        "id": "EO2FtTg2gjZT",
        "colab_type": "code",
        "outputId": "462e026e-2a2c-4deb-89f5-a0f6917bbba5",
        "colab": {
          "base_uri": "https://localhost:8080/",
          "height": 54
        }
      },
      "source": [
        "from nltk.tokenize import word_tokenize\n",
        "\n",
        "def senetence_information(sentences):\n",
        "  sent_info=[]\n",
        "  for i,sent in enumerate(sentences):\n",
        "    words=word_tokenize(sent)\n",
        "    sent_dict={\"sent_id\":i,\"sent_word_count\":len(words)}\n",
        "    sent_info.append(sent_dict)\n",
        "    \n",
        "  return sent_info\n",
        "    \n",
        "sent_info=senetence_information(sentences)\n",
        "print(sent_info)"
      ],
      "execution_count": 0,
      "outputs": [
        {
          "output_type": "stream",
          "text": [
            "[{'sent_id': 0, 'sent_word_count': 9}, {'sent_id': 1, 'sent_word_count': 6}, {'sent_id': 2, 'sent_word_count': 13}, {'sent_id': 3, 'sent_word_count': 6}, {'sent_id': 4, 'sent_word_count': 15}, {'sent_id': 5, 'sent_word_count': 9}, {'sent_id': 6, 'sent_word_count': 12}, {'sent_id': 7, 'sent_word_count': 12}, {'sent_id': 8, 'sent_word_count': 22}, {'sent_id': 9, 'sent_word_count': 16}, {'sent_id': 10, 'sent_word_count': 23}, {'sent_id': 11, 'sent_word_count': 14}, {'sent_id': 12, 'sent_word_count': 15}]\n"
          ],
          "name": "stdout"
        }
      ]
    },
    {
      "cell_type": "code",
      "metadata": {
        "id": "K0igPlulgs5D",
        "colab_type": "code",
        "outputId": "14589efc-47eb-4d2f-881a-7aa9dc522e15",
        "colab": {
          "base_uri": "https://localhost:8080/",
          "height": 283
        }
      },
      "source": [
        "from nltk.tokenize import word_tokenize\n",
        "import matplotlib.pyplot as plt\n",
        "def frequency_of_words(sentences):\n",
        "  freq_info=[]\n",
        "  for i,sent in enumerate(sentences):\n",
        "    words=word_tokenize(sent)\n",
        "    frequency_dict={}\n",
        "    for word in words:\n",
        "      if word in frequency_dict.keys():\n",
        "        frequency_dict[word]=frequency_dict[word]+1\n",
        "      else:\n",
        "        frequency_dict[word]=1\n",
        "    temp={\"sent_id\":i,\"frequency_of_word\":frequency_dict}\n",
        "    freq_info.append(temp)\n",
        "    \n",
        "  return freq_info\n",
        "\n",
        "freq_info=frequency_of_words(sentences)\n",
        "\n",
        "height=[]\n",
        "left=[]\n",
        "unik_words=unik_word(sentences)\n",
        "for i,word in enumerate(unik_words):\n",
        "  count=0\n",
        "  for sent in sentences:\n",
        "    words=word_tokenize(sent)\n",
        "    for word_1 in words:\n",
        "      if word==word_1:\n",
        "        count=count+1\n",
        "  left.append(i)\n",
        "  height.append(count)\n",
        "  \n",
        "plt.bar(left, height, tick_label = unik_words, \n",
        "        width = 0.4, color = ['red'])   \n",
        "plt.xlabel('x - axis') \n",
        "# naming the y-axis \n",
        "plt.ylabel('y - axis')\n",
        "plt.show()\n",
        "    \n",
        "#print(freq_info)"
      ],
      "execution_count": 0,
      "outputs": [
        {
          "output_type": "display_data",
          "data": {
            "image/png": "[encoded data removed]",
            "text/plain": [
              "<Figure size 432x288 with 1 Axes>"
            ]
          },
          "metadata": {
            "tags": []
          }
        }
      ]
    },
    {
      "cell_type": "code",
      "metadata": {
        "id": "RD6h0rVuh-Hb",
        "colab_type": "code",
        "outputId": "8c583d4f-08eb-4d8b-8ee6-fe4b6e92495a",
        "colab": {
          "base_uri": "https://localhost:8080/",
          "height": 34
        }
      },
      "source": [
        "def unik_word(sentences):\n",
        "  unik=[]\n",
        "  for sents in sentences:\n",
        "    for word in word_tokenize(sents):\n",
        "      if word not in unik:\n",
        "        unik.append(word)\n",
        "  return unik\n",
        "unik_words=unik_word(sentences)\n",
        "print(len(unik_words))"
      ],
      "execution_count": 0,
      "outputs": [
        {
          "output_type": "stream",
          "text": [
            "112\n"
          ],
          "name": "stdout"
        }
      ]
    },
    {
      "cell_type": "code",
      "metadata": {
        "id": "We7fnW7slH4I",
        "colab_type": "code",
        "outputId": "f7eaa006-793a-43d5-d14f-88b57c2fed2b",
        "colab": {
          "base_uri": "https://localhost:8080/",
          "height": 136
        }
      },
      "source": [
        "import numpy as np\n",
        "\n",
        "def tf_calculation(sent_info,freq_info):\n",
        "  tf_values=np.zeros(shape=(len(sent_info),len(unik_words)))\n",
        "  for i,freq_info_dict in enumerate(freq_info):\n",
        "    for word in freq_info_dict[\"frequency_of_word\"].keys():\n",
        "      tf=freq_info_dict[\"frequency_of_word\"][word]/sent_info[i][\"sent_word_count\"]\n",
        "      tf_values[i][unik_words.index(word)]=tf\n",
        "  return tf_values\n",
        "   \n",
        "  \n",
        "tf_values=tf_calculation(sent_info,freq_info)\n",
        "print(tf_values)"
      ],
      "execution_count": 0,
      "outputs": [
        {
          "output_type": "stream",
          "text": [
            "[[0.11111111 0.11111111 0.11111111 ... 0.         0.         0.        ]\n",
            " [0.33333333 0.         0.         ... 0.         0.         0.        ]\n",
            " [0.         0.         0.         ... 0.         0.         0.        ]\n",
            " ...\n",
            " [0.04347826 0.         0.         ... 0.         0.         0.        ]\n",
            " [0.         0.07142857 0.         ... 0.         0.         0.        ]\n",
            " [0.06666667 0.06666667 0.         ... 0.06666667 0.06666667 0.06666667]]\n"
          ],
          "name": "stdout"
        }
      ]
    },
    {
      "cell_type": "code",
      "metadata": {
        "id": "Gv8GmsHIFIZC",
        "colab_type": "code",
        "colab": {}
      },
      "source": [
        ""
      ],
      "execution_count": 0,
      "outputs": []
    },
    {
      "cell_type": "code",
      "metadata": {
        "id": "0-bx5ikodlVl",
        "colab_type": "code",
        "outputId": "e45b48bb-76e9-4229-a566-371f80143660",
        "colab": {
          "base_uri": "https://localhost:8080/",
          "height": 136
        }
      },
      "source": [
        "import math\n",
        "\n",
        "def idf_calculate(sent_info,freq_info):\n",
        "  idf_values=np.zeros(shape=(len(sent_info),len(unik_words)))\n",
        "  for i,freq_info_dict in enumerate(freq_info):\n",
        "    for word in freq_info_dict[\"frequency_of_word\"].keys():\n",
        "      sum=0\n",
        "      for word_in_dict in freq_info:\n",
        "        if word in set(word_in_dict[\"frequency_of_word\"].keys()):\n",
        "          sum=sum+word_in_dict[\"frequency_of_word\"][word]\n",
        "      idf_values[i][unik_words.index(word)]=math.log(len(sentences)/sum)\n",
        "  return idf_values\n",
        "        \n",
        "idf_values=idf_calculate(sent_info,freq_info)\n",
        "print(idf_values)"
      ],
      "execution_count": 0,
      "outputs": [
        {
          "output_type": "stream",
          "text": [
            "[[0.26236426 0.77318989 2.56494936 ... 0.         0.         0.        ]\n",
            " [0.26236426 0.         0.         ... 0.         0.         0.        ]\n",
            " [0.         0.         0.         ... 0.         0.         0.        ]\n",
            " ...\n",
            " [0.26236426 0.         0.         ... 0.         0.         0.        ]\n",
            " [0.         0.77318989 0.         ... 0.         0.         0.        ]\n",
            " [0.26236426 0.77318989 0.         ... 2.56494936 2.56494936 2.56494936]]\n"
          ],
          "name": "stdout"
        }
      ]
    },
    {
      "cell_type": "code",
      "metadata": {
        "id": "8D6d8VioFJ-l",
        "colab_type": "code",
        "colab": {}
      },
      "source": [
        ""
      ],
      "execution_count": 0,
      "outputs": []
    },
    {
      "cell_type": "code",
      "metadata": {
        "id": "eOPeXOgDmylG",
        "colab_type": "code",
        "outputId": "8fbdfb70-3437-4e60-cd92-281432e75786",
        "colab": {
          "base_uri": "https://localhost:8080/",
          "height": 136
        }
      },
      "source": [
        "import numpy as np\n",
        "\n",
        "def tfidf_calculation(tf_values,idf_values):\n",
        "  tfidf_values=np.zeros(shape=(len(sent_info),len(unik_words)))\n",
        "  tfidf_values=np.multiply(tf_values,idf_values)\n",
        "  return tfidf_values\n",
        "\n",
        "tfidf_values=tfidf_calculation(tf_values,idf_values)\n",
        "print(tfidf_values)"
      ],
      "execution_count": 0,
      "outputs": [
        {
          "output_type": "stream",
          "text": [
            "[[0.02915158 0.08590999 0.28499437 ... 0.         0.         0.        ]\n",
            " [0.08745475 0.         0.         ... 0.         0.         0.        ]\n",
            " [0.         0.         0.         ... 0.         0.         0.        ]\n",
            " ...\n",
            " [0.01140714 0.         0.         ... 0.         0.         0.        ]\n",
            " [0.         0.05522785 0.         ... 0.         0.         0.        ]\n",
            " [0.01749095 0.05154599 0.         ... 0.17099662 0.17099662 0.17099662]]\n"
          ],
          "name": "stdout"
        }
      ]
    },
    {
      "cell_type": "code",
      "metadata": {
        "id": "gbOSsEXp0Hg7",
        "colab_type": "code",
        "colab": {}
      },
      "source": [
        "import numpy as np\n",
        "import math\n",
        "\n",
        "def cosine_similarity(sent_1,sent_2):\n",
        "  s1_dot_s2=np.sum(np.multiply(sent_1,sent_2))\n",
        "  magnitude_of_s1=math.sqrt(np.sum(np.multiply(sent_1,sent_1)))\n",
        "  magnitude_of_s2=math.sqrt(np.sum(np.multiply(sent_2,sent_2)))\n",
        "  return s1_dot_s2/(magnitude_of_s1*magnitude_of_s2)\n",
        "  \n",
        "#x=cosine_similarity([1,2,3],[1,2,3])\n",
        "#print(x)"
      ],
      "execution_count": 0,
      "outputs": []
    },
    {
      "cell_type": "code",
      "metadata": {
        "id": "qCBiZtNPs_S8",
        "colab_type": "code",
        "outputId": "d3917633-943a-4e41-d85c-8fbe76f2d1ac",
        "colab": {
          "base_uri": "https://localhost:8080/",
          "height": 901
        }
      },
      "source": [
        "import numpy as np\n",
        "\n",
        "def cosine_matrix(tfidf_values):\n",
        "  cosine_similarity_matrix=np.zeros(shape=(len(sentences),len(sentences)))\n",
        "  for i in range(len(tfidf_values)):\n",
        "    for j in range(len(tfidf_values)):\n",
        "      cosine_similarity_matrix[i][j]=cosine_similarity(tfidf_values[i],tfidf_values[j])\n",
        "  #normalize the matrix\n",
        "  for idx in range(len(cosine_similarity_matrix)):\n",
        "    cosine_similarity_matrix[idx] /= cosine_similarity_matrix[idx].sum()\n",
        "    \n",
        "  return cosine_similarity_matrix\n",
        "\n",
        "cosine_similarity_matrix=cosine_matrix(tfidf_values)\n",
        "print(cosine_similarity_matrix)"
      ],
      "execution_count": 0,
      "outputs": [
        {
          "output_type": "stream",
          "text": [
            "[[7.24762440e-01 4.43167194e-02 9.30912463e-02 0.00000000e+00\n",
            "  2.17318659e-02 1.16105799e-02 1.16344884e-02 1.23095722e-03\n",
            "  2.67396259e-02 8.69764362e-03 8.61934059e-04 4.48859798e-02\n",
            "  1.04365197e-02]\n",
            " [4.69838212e-02 7.68380632e-01 1.34479638e-01 0.00000000e+00\n",
            "  3.28759605e-02 0.00000000e+00 3.47081524e-03 3.55648224e-03\n",
            "  4.64891470e-03 0.00000000e+00 2.49030033e-03 0.00000000e+00\n",
            "  3.11343572e-03]\n",
            " [6.61147310e-02 9.00876362e-02 5.14736623e-01 7.27092259e-02\n",
            "  1.31352392e-02 0.00000000e+00 3.87889555e-02 0.00000000e+00\n",
            "  0.00000000e+00 5.25107680e-02 7.30252795e-02 6.50950079e-02\n",
            "  1.37965341e-02]\n",
            " [0.00000000e+00 0.00000000e+00 1.07668955e-01 7.62230011e-01\n",
            "  0.00000000e+00 7.87015213e-02 0.00000000e+00 0.00000000e+00\n",
            "  0.00000000e+00 0.00000000e+00 0.00000000e+00 2.62454638e-02\n",
            "  2.51540496e-02]\n",
            " [2.24600324e-02 3.20487489e-02 1.91144567e-02 0.00000000e+00\n",
            "  7.49046950e-01 0.00000000e+00 8.68754942e-04 8.90197636e-04\n",
            "  7.21340031e-02 7.37263349e-02 1.32033558e-02 0.00000000e+00\n",
            "  1.65071655e-02]\n",
            " [1.18253270e-02 0.00000000e+00 0.00000000e+00 7.62170280e-02\n",
            "  0.00000000e+00 7.38167510e-01 6.64712218e-02 0.00000000e+00\n",
            "  0.00000000e+00 8.07703018e-03 8.14825606e-02 9.06821117e-03\n",
            "  8.69111078e-03]\n",
            " [1.15961342e-02 3.26299724e-03 5.44358033e-02 0.00000000e+00\n",
            "  8.37818350e-04 6.50489596e-02 7.22373191e-01 8.40913690e-02\n",
            "  1.31399452e-03 7.10266398e-03 1.49094119e-02 2.65049932e-02\n",
            "  8.52266385e-03]\n",
            " [1.19649492e-03 3.26067722e-03 0.00000000e+00 0.00000000e+00\n",
            "  8.37222655e-04 0.00000000e+00 8.20074633e-02 7.04471738e-01\n",
            "  1.31306026e-03 4.15968015e-02 6.48952658e-02 3.70350861e-02\n",
            "  6.33861900e-02]\n",
            " [2.97371223e-02 4.87656995e-03 0.00000000e+00 0.00000000e+00\n",
            "  7.76194005e-02 0.00000000e+00 1.46612576e-03 1.50231282e-03\n",
            "  8.06007884e-01 3.11054573e-02 1.16670756e-02 2.14315825e-02\n",
            "  1.45864696e-02]\n",
            " [8.34885936e-03 0.00000000e+00 7.09715870e-02 0.00000000e+00\n",
            "  6.84754382e-02 7.61233679e-03 6.84039001e-03 4.10787838e-02\n",
            "  2.68484065e-02 6.95698737e-01 4.67093815e-02 2.12800243e-02\n",
            "  6.13605540e-03]\n",
            " [7.36541069e-04 2.00721512e-03 8.78631487e-02 0.00000000e+00\n",
            "  1.09167632e-02 6.83641385e-02 1.27825499e-02 5.70516283e-02\n",
            "  8.96481490e-03 4.15816296e-02 6.19324989e-01 3.41972142e-02\n",
            "  5.62093672e-02]\n",
            " [4.14900672e-02 0.00000000e+00 8.47211265e-02 2.30673292e-02\n",
            "  0.00000000e+00 8.22992363e-03 2.45807531e-02 3.52191517e-02\n",
            "  1.78132867e-02 2.04917954e-02 3.69914395e-02 6.69929507e-01\n",
            "  3.74656201e-02]\n",
            " [1.03787454e-02 2.92044028e-03 1.93183383e-02 2.37851944e-02\n",
            "  1.58835766e-02 8.48604237e-03 8.50351683e-03 6.48508854e-02\n",
            "  1.30435479e-02 6.35700998e-03 6.54146359e-02 4.03077591e-02\n",
            "  7.20750308e-01]]\n"
          ],
          "name": "stdout"
        }
      ]
    },
    {
      "cell_type": "code",
      "metadata": {
        "id": "VD8mKvnZBnyl",
        "colab_type": "code",
        "outputId": "41f4ffbb-9fe3-4422-9e39-d5aa7469a412",
        "colab": {
          "base_uri": "https://localhost:8080/",
          "height": 105
        }
      },
      "source": [
        "import numpy as np\n",
        "def text_rank(cosine_matrix,eps=0.0001,d=0.85):\n",
        "  teleportation_factor=np.ones(len(sentences))/len(sentences)\n",
        "  i=0\n",
        "  while i<100:\n",
        "    new_p=np.dot(cosine_similarity_matrix.T,teleportation_factor.T)\n",
        "    if i<=100:\n",
        "      return new_p\n",
        "    i=i+1\n",
        "    teleportation_factor = new_p\n",
        "  \n",
        "  \n",
        "result_rank=text_rank(cosine_similarity_matrix)\n",
        "print(len(sentences))\n",
        "rank_with_sentence={}\n",
        "for i in range(len(sent_for_print)):\n",
        "  if result_rank[i] not in set(rank_with_sentence.keys()):\n",
        "    rank_with_sentence[result_rank[i]]=[sent_for_print[i]]\n",
        "  else:\n",
        "    rank_with_sentence[result_rank[i]].append(sent_for_print[i])\n",
        "    \n",
        "\n",
        "#sentences with their rank\n",
        "for key in sorted(rank_with_sentence.keys(),reverse=True)[:int(len(rank_with_sentence.keys())/4)]:\n",
        "  for k in rank_with_sentence[key]:\n",
        "    #print(key,k)\n",
        "    k[0].upper()\n",
        "    print(k)\n",
        "    \n",
        "  "
      ],
      "execution_count": 0,
      "outputs": [
        {
          "output_type": "stream",
          "text": [
            "13\n",
            "good health of both mind and body helps one maintain the required energy level to achieve success in life.\n",
            "healthy habits improve your physical appearance, mental stability, ability to perform activities in a better way, which help you lead a stress-free lifestyle, maintaining happy moods, high energy levels, etc.\n",
            "each individual should take of one’s health on a priority; no single day should be skipped for making efforts on maintaining physical and mental fitness.\n"
          ],
          "name": "stdout"
        }
      ]
    }
  ]
}